{
 "cells": [
  {
   "cell_type": "markdown",
   "metadata": {},
   "source": [
    "# Titanic o maior!"
   ]
  },
  {
   "cell_type": "markdown",
   "metadata": {},
   "source": [
    "O navio Titanic foi lançado ao mar em 10 de abril de 1912 para ser o mais luxuoso e mais seguro da sua época e assim gerou lendas de o 'inafundável'. Titanic foi realmente o maior, porém o maior desastre naval. O navio possuia um requinte que dispensa comentários destinado a primeira classe, devido a divisão de classes econômicas da época a segunda e terceira classe estavam abaixo da proa do navio. No dia 15 de abril ocorre o acidente até hoje inesquecível e eternizado pela arte, sem botes salva-vidas para todos, mesmo atendendo as normas marítimas naquela época, 1514 morreram. Foi acordado pela tripulação a convenção internacional de priorizar mulheres e crianças durante a evacuação do navio. Dados incompletos adotados para o estudos dos fatos sobre as pessoas que estavam a bordo nos revela fatos curiosos e que condizem com informações dos sobreviventes. Algumas perguntas foram criadas para que possamos estudar o arquivo de dados disponibilizado pela Udacity contendo informações de apenas 891 passageiros."
   ]
  },
  {
   "cell_type": "markdown",
   "metadata": {},
   "source": [
    "## Perguntas a serem respondidas:"
   ]
  },
  {
   "cell_type": "markdown",
   "metadata": {},
   "source": [
    "1. Quantos passageiros haviam a bordo do Titanic?\n",
    "2. Quantos homens e mulheres haviam a bordo?\n",
    "3. Quantas homens e mulheres haviam em cada classe do navio?\n",
    "4. Quantas mulheres e homens sobreviveram?\n",
    "5. Qual a porcentagem de sobreviventes em cada classe do navio?\n",
    "6. Qual a distribuição de idade entre os sobreviventes?\n",
    "7. Quantas crianças menores de 5 anos de idade sobreviveram?\n",
    "8. Qual o mais velho, mais novo e a média de idade entre os sobreviventes?\n",
    "9. Qual o valor médio e máximo das tarifas em cada classe?\n",
    "10. Qual o valor médio dos tíquetes de sobreviventes em cada classe do navio?\n",
    "11. Qual o valor médio dos tíquetes para homens e mulheres em cada classe?\n",
    "\n",
    "\n"
   ]
  },
  {
   "cell_type": "markdown",
   "metadata": {},
   "source": [
    "Importação de bibliotecas e leitura do arquivo *csv* contendo as informações das pessoas a bordo."
   ]
  },
  {
   "cell_type": "code",
   "execution_count": 1,
   "metadata": {},
   "outputs": [],
   "source": [
    "import pandas as pd\n",
    "import numpy as np\n",
    "import matplotlib.pyplot as plt\n",
    "\n",
    "df = pd.read_csv('titanic-data-6.csv', sep=',')"
   ]
  },
  {
   "cell_type": "markdown",
   "metadata": {},
   "source": [
    "Dimensões do dataset."
   ]
  },
  {
   "cell_type": "code",
   "execution_count": 2,
   "metadata": {},
   "outputs": [
    {
     "name": "stdout",
     "output_type": "stream",
     "text": [
      "Linhas:  891\n",
      "Colunas:  12\n"
     ]
    }
   ],
   "source": [
    "print('Linhas: ', df.shape[0])\n",
    "print('Colunas: ', df.shape[1])"
   ]
  },
  {
   "cell_type": "markdown",
   "metadata": {},
   "source": [
    "Vamos apresentar parte dos dados a seguir para que possamos nos habituar como estão organizados os dados."
   ]
  },
  {
   "cell_type": "code",
   "execution_count": 3,
   "metadata": {},
   "outputs": [
    {
     "data": {
      "text/html": [
       "<div>\n",
       "<style scoped>\n",
       "    .dataframe tbody tr th:only-of-type {\n",
       "        vertical-align: middle;\n",
       "    }\n",
       "\n",
       "    .dataframe tbody tr th {\n",
       "        vertical-align: top;\n",
       "    }\n",
       "\n",
       "    .dataframe thead th {\n",
       "        text-align: right;\n",
       "    }\n",
       "</style>\n",
       "<table border=\"1\" class=\"dataframe\">\n",
       "  <thead>\n",
       "    <tr style=\"text-align: right;\">\n",
       "      <th></th>\n",
       "      <th>PassengerId</th>\n",
       "      <th>Survived</th>\n",
       "      <th>Pclass</th>\n",
       "      <th>Name</th>\n",
       "      <th>Sex</th>\n",
       "      <th>Age</th>\n",
       "      <th>SibSp</th>\n",
       "      <th>Parch</th>\n",
       "      <th>Ticket</th>\n",
       "      <th>Fare</th>\n",
       "      <th>Cabin</th>\n",
       "      <th>Embarked</th>\n",
       "    </tr>\n",
       "  </thead>\n",
       "  <tbody>\n",
       "    <tr>\n",
       "      <th>0</th>\n",
       "      <td>1</td>\n",
       "      <td>0</td>\n",
       "      <td>3</td>\n",
       "      <td>Braund, Mr. Owen Harris</td>\n",
       "      <td>male</td>\n",
       "      <td>22.0</td>\n",
       "      <td>1</td>\n",
       "      <td>0</td>\n",
       "      <td>A/5 21171</td>\n",
       "      <td>7.2500</td>\n",
       "      <td>NaN</td>\n",
       "      <td>S</td>\n",
       "    </tr>\n",
       "    <tr>\n",
       "      <th>1</th>\n",
       "      <td>2</td>\n",
       "      <td>1</td>\n",
       "      <td>1</td>\n",
       "      <td>Cumings, Mrs. John Bradley (Florence Briggs Th...</td>\n",
       "      <td>female</td>\n",
       "      <td>38.0</td>\n",
       "      <td>1</td>\n",
       "      <td>0</td>\n",
       "      <td>PC 17599</td>\n",
       "      <td>71.2833</td>\n",
       "      <td>C85</td>\n",
       "      <td>C</td>\n",
       "    </tr>\n",
       "    <tr>\n",
       "      <th>2</th>\n",
       "      <td>3</td>\n",
       "      <td>1</td>\n",
       "      <td>3</td>\n",
       "      <td>Heikkinen, Miss. Laina</td>\n",
       "      <td>female</td>\n",
       "      <td>26.0</td>\n",
       "      <td>0</td>\n",
       "      <td>0</td>\n",
       "      <td>STON/O2. 3101282</td>\n",
       "      <td>7.9250</td>\n",
       "      <td>NaN</td>\n",
       "      <td>S</td>\n",
       "    </tr>\n",
       "    <tr>\n",
       "      <th>3</th>\n",
       "      <td>4</td>\n",
       "      <td>1</td>\n",
       "      <td>1</td>\n",
       "      <td>Futrelle, Mrs. Jacques Heath (Lily May Peel)</td>\n",
       "      <td>female</td>\n",
       "      <td>35.0</td>\n",
       "      <td>1</td>\n",
       "      <td>0</td>\n",
       "      <td>113803</td>\n",
       "      <td>53.1000</td>\n",
       "      <td>C123</td>\n",
       "      <td>S</td>\n",
       "    </tr>\n",
       "  </tbody>\n",
       "</table>\n",
       "</div>"
      ],
      "text/plain": [
       "   PassengerId  Survived  Pclass  \\\n",
       "0            1         0       3   \n",
       "1            2         1       1   \n",
       "2            3         1       3   \n",
       "3            4         1       1   \n",
       "\n",
       "                                                Name     Sex   Age  SibSp  \\\n",
       "0                            Braund, Mr. Owen Harris    male  22.0      1   \n",
       "1  Cumings, Mrs. John Bradley (Florence Briggs Th...  female  38.0      1   \n",
       "2                             Heikkinen, Miss. Laina  female  26.0      0   \n",
       "3       Futrelle, Mrs. Jacques Heath (Lily May Peel)  female  35.0      1   \n",
       "\n",
       "   Parch            Ticket     Fare Cabin Embarked  \n",
       "0      0         A/5 21171   7.2500   NaN        S  \n",
       "1      0          PC 17599  71.2833   C85        C  \n",
       "2      0  STON/O2. 3101282   7.9250   NaN        S  \n",
       "3      0            113803  53.1000  C123        S  "
      ]
     },
     "execution_count": 3,
     "metadata": {},
     "output_type": "execute_result"
    }
   ],
   "source": [
    "df.head(4)"
   ]
  },
  {
   "cell_type": "code",
   "execution_count": 4,
   "metadata": {},
   "outputs": [
    {
     "data": {
      "text/html": [
       "<div>\n",
       "<style scoped>\n",
       "    .dataframe tbody tr th:only-of-type {\n",
       "        vertical-align: middle;\n",
       "    }\n",
       "\n",
       "    .dataframe tbody tr th {\n",
       "        vertical-align: top;\n",
       "    }\n",
       "\n",
       "    .dataframe thead th {\n",
       "        text-align: right;\n",
       "    }\n",
       "</style>\n",
       "<table border=\"1\" class=\"dataframe\">\n",
       "  <thead>\n",
       "    <tr style=\"text-align: right;\">\n",
       "      <th></th>\n",
       "      <th>PassengerId</th>\n",
       "      <th>Survived</th>\n",
       "      <th>Pclass</th>\n",
       "      <th>Name</th>\n",
       "      <th>Sex</th>\n",
       "      <th>Age</th>\n",
       "      <th>SibSp</th>\n",
       "      <th>Parch</th>\n",
       "      <th>Ticket</th>\n",
       "      <th>Fare</th>\n",
       "      <th>Cabin</th>\n",
       "      <th>Embarked</th>\n",
       "    </tr>\n",
       "  </thead>\n",
       "  <tbody>\n",
       "    <tr>\n",
       "      <th>887</th>\n",
       "      <td>888</td>\n",
       "      <td>1</td>\n",
       "      <td>1</td>\n",
       "      <td>Graham, Miss. Margaret Edith</td>\n",
       "      <td>female</td>\n",
       "      <td>19.0</td>\n",
       "      <td>0</td>\n",
       "      <td>0</td>\n",
       "      <td>112053</td>\n",
       "      <td>30.00</td>\n",
       "      <td>B42</td>\n",
       "      <td>S</td>\n",
       "    </tr>\n",
       "    <tr>\n",
       "      <th>888</th>\n",
       "      <td>889</td>\n",
       "      <td>0</td>\n",
       "      <td>3</td>\n",
       "      <td>Johnston, Miss. Catherine Helen \"Carrie\"</td>\n",
       "      <td>female</td>\n",
       "      <td>NaN</td>\n",
       "      <td>1</td>\n",
       "      <td>2</td>\n",
       "      <td>W./C. 6607</td>\n",
       "      <td>23.45</td>\n",
       "      <td>NaN</td>\n",
       "      <td>S</td>\n",
       "    </tr>\n",
       "    <tr>\n",
       "      <th>889</th>\n",
       "      <td>890</td>\n",
       "      <td>1</td>\n",
       "      <td>1</td>\n",
       "      <td>Behr, Mr. Karl Howell</td>\n",
       "      <td>male</td>\n",
       "      <td>26.0</td>\n",
       "      <td>0</td>\n",
       "      <td>0</td>\n",
       "      <td>111369</td>\n",
       "      <td>30.00</td>\n",
       "      <td>C148</td>\n",
       "      <td>C</td>\n",
       "    </tr>\n",
       "    <tr>\n",
       "      <th>890</th>\n",
       "      <td>891</td>\n",
       "      <td>0</td>\n",
       "      <td>3</td>\n",
       "      <td>Dooley, Mr. Patrick</td>\n",
       "      <td>male</td>\n",
       "      <td>32.0</td>\n",
       "      <td>0</td>\n",
       "      <td>0</td>\n",
       "      <td>370376</td>\n",
       "      <td>7.75</td>\n",
       "      <td>NaN</td>\n",
       "      <td>Q</td>\n",
       "    </tr>\n",
       "  </tbody>\n",
       "</table>\n",
       "</div>"
      ],
      "text/plain": [
       "     PassengerId  Survived  Pclass                                      Name  \\\n",
       "887          888         1       1              Graham, Miss. Margaret Edith   \n",
       "888          889         0       3  Johnston, Miss. Catherine Helen \"Carrie\"   \n",
       "889          890         1       1                     Behr, Mr. Karl Howell   \n",
       "890          891         0       3                       Dooley, Mr. Patrick   \n",
       "\n",
       "        Sex   Age  SibSp  Parch      Ticket   Fare Cabin Embarked  \n",
       "887  female  19.0      0      0      112053  30.00   B42        S  \n",
       "888  female   NaN      1      2  W./C. 6607  23.45   NaN        S  \n",
       "889    male  26.0      0      0      111369  30.00  C148        C  \n",
       "890    male  32.0      0      0      370376   7.75   NaN        Q  "
      ]
     },
     "execution_count": 4,
     "metadata": {},
     "output_type": "execute_result"
    }
   ],
   "source": [
    "df.tail(4)"
   ]
  },
  {
   "cell_type": "markdown",
   "metadata": {},
   "source": [
    "Vamos buscar informações sobre quantidade e tipo de dados em cada coluna."
   ]
  },
  {
   "cell_type": "code",
   "execution_count": 5,
   "metadata": {},
   "outputs": [
    {
     "name": "stdout",
     "output_type": "stream",
     "text": [
      "<class 'pandas.core.frame.DataFrame'>\n",
      "RangeIndex: 891 entries, 0 to 890\n",
      "Data columns (total 12 columns):\n",
      "PassengerId    891 non-null int64\n",
      "Survived       891 non-null int64\n",
      "Pclass         891 non-null int64\n",
      "Name           891 non-null object\n",
      "Sex            891 non-null object\n",
      "Age            714 non-null float64\n",
      "SibSp          891 non-null int64\n",
      "Parch          891 non-null int64\n",
      "Ticket         891 non-null object\n",
      "Fare           891 non-null float64\n",
      "Cabin          204 non-null object\n",
      "Embarked       889 non-null object\n",
      "dtypes: float64(2), int64(5), object(5)\n",
      "memory usage: 83.6+ KB\n"
     ]
    }
   ],
   "source": [
    "df.info()"
   ]
  },
  {
   "cell_type": "markdown",
   "metadata": {},
   "source": [
    "Vendo como os títulos de cada coluna são chamados,  tentamos facilitar o melhor entendimento alterando os títulos de algumas colunas e deixamos todos os títulos em letras minúsculas para melhor agilidade de manipulação dos dados."
   ]
  },
  {
   "cell_type": "code",
   "execution_count": 6,
   "metadata": {},
   "outputs": [],
   "source": [
    "df.columns = df.columns.str.lower()"
   ]
  },
  {
   "cell_type": "code",
   "execution_count": 7,
   "metadata": {},
   "outputs": [],
   "source": [
    "df.rename(columns={'survived':'sobreviveu', 'name':'nome', 'sex':'sexo', 'age':'idade', 'fare':'tarifa', \n",
    "                   'cabin':'cabine', 'embarked':'embarque'}, inplace=True)"
   ]
  },
  {
   "cell_type": "code",
   "execution_count": 8,
   "metadata": {},
   "outputs": [
    {
     "data": {
      "text/plain": [
       "Index(['passengerid', 'sobreviveu', 'pclass', 'nome', 'sexo', 'idade', 'sibsp',\n",
       "       'parch', 'ticket', 'tarifa', 'cabine', 'embarque'],\n",
       "      dtype='object')"
      ]
     },
     "execution_count": 8,
     "metadata": {},
     "output_type": "execute_result"
    }
   ],
   "source": [
    "df.columns"
   ]
  },
  {
   "cell_type": "markdown",
   "metadata": {},
   "source": [
    "Como não iremos visualizar dado por dado, melhor é verificar a existência de linhas duplicados no nosso data set."
   ]
  },
  {
   "cell_type": "code",
   "execution_count": 9,
   "metadata": {},
   "outputs": [
    {
     "data": {
      "text/plain": [
       "0"
      ]
     },
     "execution_count": 9,
     "metadata": {},
     "output_type": "execute_result"
    }
   ],
   "source": [
    "df.duplicated().sum()"
   ]
  },
  {
   "cell_type": "markdown",
   "metadata": {},
   "source": [
    "#### Dicionário dos dados:\n",
    " Descrevendo o que os item desse dataset significa para melhor interpretamos os dados.\n",
    " \n",
    " **passengerid** - identificação númerica do passageiro;\n",
    " **sobreviveu** - se o passageiro sobreviveu ao naufrágio (0 = não sobreviveu / 1 = sobreviveu);\n",
    " **pclass** - classe ao qual o passageiro estava viajando (1 = primeira classe / 2 = segunda classe / 3 = terceira classe);\n",
    " **nome** - nome do passageiro;\n",
    " **sexo** - sexo do passageiro;\n",
    " **idade** - idade do passageiro;\n",
    " **sibsp** - irmãos ou cônjuge a bordo do navio;\n",
    " **parch** - pais ou filhos a bordo do navio;\n",
    " **ticket** - número do ticket;\n",
    " **tarifa** - valor da passagem;\n",
    " **cabine** - número da cabine de viagem;\n",
    " **embarque** - local de embarque do passageiro;\n",
    "\n"
   ]
  },
  {
   "cell_type": "markdown",
   "metadata": {},
   "source": [
    "Em nossa apresentação prévia dos dados anteriormente visualizamos alguns itens faltando (NaN), buscar estes itens nulos é de suma importância para decidirmos a necessidade de eliminação ou preenchimento destes dados com o valor mais adequado. \n",
    "#### **Limpeza dos dados** antes de iniciarmos as respostas dos nossos questionamentos."
   ]
  },
  {
   "cell_type": "code",
   "execution_count": 10,
   "metadata": {},
   "outputs": [
    {
     "data": {
      "text/plain": [
       "passengerid      0\n",
       "sobreviveu       0\n",
       "pclass           0\n",
       "nome             0\n",
       "sexo             0\n",
       "idade          177\n",
       "sibsp            0\n",
       "parch            0\n",
       "ticket           0\n",
       "tarifa           0\n",
       "cabine         687\n",
       "embarque         2\n",
       "dtype: int64"
      ]
     },
     "execution_count": 10,
     "metadata": {},
     "output_type": "execute_result"
    }
   ],
   "source": [
    "df.isnull().sum()"
   ]
  },
  {
   "cell_type": "markdown",
   "metadata": {},
   "source": [
    "Considerando que a coluna 'cabine' possui muitos itens faltando e as colunas 'sibsp', 'parch' e 'ticket' não serão úteis neste momento para nosso estudo, excluiremos essas colunas."
   ]
  },
  {
   "cell_type": "code",
   "execution_count": 11,
   "metadata": {},
   "outputs": [],
   "source": [
    "df.drop(['cabine', 'parch', 'sibsp', 'ticket'], axis=1, inplace=True)"
   ]
  },
  {
   "cell_type": "markdown",
   "metadata": {},
   "source": [
    "Alguns outros dados como *'idade'* e *'embarque'* possuem dados faltando, poderiamos aplicar a idade média para homens e idade média para mulheres de modo a não influenciar nas respostas, mas optamos por mantê-los ausentes e lembrar de não considera-los quando utilizá-los."
   ]
  },
  {
   "cell_type": "code",
   "execution_count": 12,
   "metadata": {},
   "outputs": [],
   "source": [
    "def pizza(col, tit, lab):\n",
    "    grafico = df[col].value_counts().plot.pie(title=tit, labels=lab, startangle=90, autopct='%1.1f%%', label='', explode=(0.1, 0), shadow=True)\n",
    "    return grafico"
   ]
  },
  {
   "cell_type": "markdown",
   "metadata": {},
   "source": [
    "Criada a função *pizza* na qual podemos utilizar várias vezes para apresentar um gráfico simples com seu percentual no modo pizza.\n",
    "\n",
    "* **Descrição:**\n",
    "    *Está função exibe o gráfico tipo pizza com seus respectivos percentuais para um data frame df.*\n",
    "\n",
    "* **Função:**\n",
    "    *pizza(col, tit, lab)*\n",
    "\n",
    "* **Parâmetros de entrada:**\n",
    "\n",
    "    col: *Inserir título tipo string referente a coluna desejada no data frame df.*\n",
    "    \n",
    "    tit: *Inserir título do tipo string para o gráfico.*\n",
    "    \n",
    "    lab: *Entre com os títulos desejavéis do tipo string para cada item da coluna selecionada na ordem decrescente do itens.*\n",
    "\n",
    "\n",
    "* **Parâmetros de saída:**\n",
    "    *Gráfico do tipo pizza.*\n"
   ]
  },
  {
   "cell_type": "markdown",
   "metadata": {},
   "source": [
    "01. Mostraremos a distribuição de sobreviventes e não sobreviventes e o que isso representa em percentual. "
   ]
  },
  {
   "cell_type": "code",
   "execution_count": 13,
   "metadata": {},
   "outputs": [
    {
     "data": {
      "text/html": [
       "<div>\n",
       "<style scoped>\n",
       "    .dataframe tbody tr th:only-of-type {\n",
       "        vertical-align: middle;\n",
       "    }\n",
       "\n",
       "    .dataframe tbody tr th {\n",
       "        vertical-align: top;\n",
       "    }\n",
       "\n",
       "    .dataframe thead th {\n",
       "        text-align: right;\n",
       "    }\n",
       "</style>\n",
       "<table border=\"1\" class=\"dataframe\">\n",
       "  <thead>\n",
       "    <tr style=\"text-align: right;\">\n",
       "      <th></th>\n",
       "      <th>passengerid</th>\n",
       "    </tr>\n",
       "    <tr>\n",
       "      <th>sobreviveu</th>\n",
       "      <th></th>\n",
       "    </tr>\n",
       "  </thead>\n",
       "  <tbody>\n",
       "    <tr>\n",
       "      <th>0</th>\n",
       "      <td>549</td>\n",
       "    </tr>\n",
       "    <tr>\n",
       "      <th>1</th>\n",
       "      <td>342</td>\n",
       "    </tr>\n",
       "  </tbody>\n",
       "</table>\n",
       "</div>"
      ],
      "text/plain": [
       "            passengerid\n",
       "sobreviveu             \n",
       "0                   549\n",
       "1                   342"
      ]
     },
     "execution_count": 13,
     "metadata": {},
     "output_type": "execute_result"
    }
   ],
   "source": [
    "df.pivot_table('passengerid', ['sobreviveu'], aggfunc='count')"
   ]
  },
  {
   "cell_type": "code",
   "execution_count": 14,
   "metadata": {},
   "outputs": [
    {
     "data": {
      "image/png": "[encoded data removed]",
      "text/plain": [
       "<Figure size 432x288 with 1 Axes>"
      ]
     },
     "metadata": {},
     "output_type": "display_data"
    }
   ],
   "source": [
    "pizza('sobreviveu', 'Percentual de pessoas que sobreviveram e não sobreviveram', ('Não sobreviveu','Sobreviveu'))\n",
    "plt.savefig('fig_1.jpg')"
   ]
  },
  {
   "cell_type": "markdown",
   "metadata": {},
   "source": [
    "Uma grande percentual, 61.6%, das pessoas que embarcaram no Titanic não sobreviveram ao acidente."
   ]
  },
  {
   "cell_type": "markdown",
   "metadata": {},
   "source": [
    "2. Em seguida vamos obter os valores de homens e mulheres a bordo."
   ]
  },
  {
   "cell_type": "code",
   "execution_count": 15,
   "metadata": {},
   "outputs": [
    {
     "data": {
      "text/html": [
       "<div>\n",
       "<style scoped>\n",
       "    .dataframe tbody tr th:only-of-type {\n",
       "        vertical-align: middle;\n",
       "    }\n",
       "\n",
       "    .dataframe tbody tr th {\n",
       "        vertical-align: top;\n",
       "    }\n",
       "\n",
       "    .dataframe thead th {\n",
       "        text-align: right;\n",
       "    }\n",
       "</style>\n",
       "<table border=\"1\" class=\"dataframe\">\n",
       "  <thead>\n",
       "    <tr style=\"text-align: right;\">\n",
       "      <th></th>\n",
       "      <th>passengerid</th>\n",
       "    </tr>\n",
       "    <tr>\n",
       "      <th>sexo</th>\n",
       "      <th></th>\n",
       "    </tr>\n",
       "  </thead>\n",
       "  <tbody>\n",
       "    <tr>\n",
       "      <th>female</th>\n",
       "      <td>314</td>\n",
       "    </tr>\n",
       "    <tr>\n",
       "      <th>male</th>\n",
       "      <td>577</td>\n",
       "    </tr>\n",
       "  </tbody>\n",
       "</table>\n",
       "</div>"
      ],
      "text/plain": [
       "        passengerid\n",
       "sexo               \n",
       "female          314\n",
       "male            577"
      ]
     },
     "execution_count": 15,
     "metadata": {},
     "output_type": "execute_result"
    }
   ],
   "source": [
    "df.pivot_table('passengerid', ['sexo'], aggfunc='count')"
   ]
  },
  {
   "cell_type": "code",
   "execution_count": 16,
   "metadata": {},
   "outputs": [
    {
     "data": {
      "image/png": "[encoded data removed]",
      "text/plain": [
       "<Figure size 432x288 with 1 Axes>"
      ]
     },
     "metadata": {},
     "output_type": "display_data"
    }
   ],
   "source": [
    "pizza('sexo', 'Percentual de passageiros por sexo', ('Masculino', 'Feminino'))\n",
    "plt.savefig('fig_2.jpg')"
   ]
  },
  {
   "cell_type": "markdown",
   "metadata": {},
   "source": [
    "Dos 891 passageiros a bordo do Titanic 577 eram do sexo masculino, representando 64,8% do total de passageiros, enquanto as mulheres apenas 35,2%."
   ]
  },
  {
   "cell_type": "markdown",
   "metadata": {},
   "source": [
    "3. Descobrindo a distribuiçao de cada sexo dentre as classes ecônomicas a bordo."
   ]
  },
  {
   "cell_type": "code",
   "execution_count": 17,
   "metadata": {},
   "outputs": [
    {
     "data": {
      "text/html": [
       "<div>\n",
       "<style scoped>\n",
       "    .dataframe tbody tr th:only-of-type {\n",
       "        vertical-align: middle;\n",
       "    }\n",
       "\n",
       "    .dataframe tbody tr th {\n",
       "        vertical-align: top;\n",
       "    }\n",
       "\n",
       "    .dataframe thead th {\n",
       "        text-align: right;\n",
       "    }\n",
       "</style>\n",
       "<table border=\"1\" class=\"dataframe\">\n",
       "  <thead>\n",
       "    <tr style=\"text-align: right;\">\n",
       "      <th>pclass</th>\n",
       "      <th>1</th>\n",
       "      <th>2</th>\n",
       "      <th>3</th>\n",
       "    </tr>\n",
       "    <tr>\n",
       "      <th>sexo</th>\n",
       "      <th></th>\n",
       "      <th></th>\n",
       "      <th></th>\n",
       "    </tr>\n",
       "  </thead>\n",
       "  <tbody>\n",
       "    <tr>\n",
       "      <th>female</th>\n",
       "      <td>94</td>\n",
       "      <td>76</td>\n",
       "      <td>144</td>\n",
       "    </tr>\n",
       "    <tr>\n",
       "      <th>male</th>\n",
       "      <td>122</td>\n",
       "      <td>108</td>\n",
       "      <td>347</td>\n",
       "    </tr>\n",
       "  </tbody>\n",
       "</table>\n",
       "</div>"
      ],
      "text/plain": [
       "pclass    1    2    3\n",
       "sexo                 \n",
       "female   94   76  144\n",
       "male    122  108  347"
      ]
     },
     "execution_count": 17,
     "metadata": {},
     "output_type": "execute_result"
    }
   ],
   "source": [
    "df.pivot_table('passengerid', ['sexo'], 'pclass', aggfunc='count')"
   ]
  },
  {
   "cell_type": "code",
   "execution_count": 18,
   "metadata": {},
   "outputs": [
    {
     "data": {
      "image/png": "[encoded data removed]",
      "text/plain": [
       "<Figure size 432x288 with 1 Axes>"
      ]
     },
     "metadata": {
      "needs_background": "light"
     },
     "output_type": "display_data"
    }
   ],
   "source": [
    "df.pivot_table('passengerid', 'pclass', ['sexo'], aggfunc='count').sort_index().plot(kind='barh', color=('tab:green', 'tab:red'),\n",
    "                                                                       stacked=True, \n",
    "                                                                        title='Quantidade de Homens e Mulheres por Classe')\n",
    "plt.xlabel('Quantidade')\n",
    "plt.ylabel('Classes')\n",
    "plt.savefig('fig_3.jpg')  "
   ]
  },
  {
   "cell_type": "markdown",
   "metadata": {},
   "source": [
    "Os homens são predominantes nas 3 classes apresentadas, mais um número mais expressivo se encontra na 3a classe, onde muitos estavam indo em busca de novas oportunidades de vida."
   ]
  },
  {
   "cell_type": "markdown",
   "metadata": {},
   "source": [
    "4. Conseguimos identificar o que é relatado pelos sobreviventes sobre as prioridades para embarque nos botes salva-vidas quando avaliamos os números de sobreviventes de cada sexo."
   ]
  },
  {
   "cell_type": "code",
   "execution_count": 19,
   "metadata": {},
   "outputs": [
    {
     "data": {
      "text/plain": [
       "sexo\n",
       "female    233\n",
       "male      109\n",
       "Name: sobreviveu, dtype: int64"
      ]
     },
     "execution_count": 19,
     "metadata": {},
     "output_type": "execute_result"
    }
   ],
   "source": [
    "df.query('sobreviveu == 1').groupby('sexo').count()['sobreviveu']"
   ]
  },
  {
   "cell_type": "code",
   "execution_count": 20,
   "metadata": {},
   "outputs": [
    {
     "data": {
      "image/png": "[encoded data removed]",
      "text/plain": [
       "<Figure size 432x288 with 1 Axes>"
      ]
     },
     "metadata": {},
     "output_type": "display_data"
    }
   ],
   "source": [
    "df[df['sobreviveu'] == 1].groupby('sexo').count()['sobreviveu'].plot.pie(title='Percentual de sobreviventes por sexo', \n",
    "                                                                      labels=('Feminino', 'Masculino'), \n",
    "                                                                       startangle=90, autopct='%1.1f%%', label='',\n",
    "                                                                      explode=(0.1, 0), shadow=True)\n",
    "plt.savefig('fig_4.jpg')  "
   ]
  },
  {
   "cell_type": "markdown",
   "metadata": {},
   "source": [
    "Os 341 sobreviventes eram formados por 233 mulheres e 109 homens, números esses que nos revela 68.1% de mulheres entre os sobreviventes e que realmente as mulheres foram priorizadas durante o salvamente. Fatos contados nos revela que muitos também se negaram a embarcar nos botes para ficar a deriva no mar gelado no aguardo de salvamente, fotos divulgadas mostram que alguns botes não estavam totalmente cheios e isso poderia ter salvos mais 300 vidas aproximadamente."
   ]
  },
  {
   "cell_type": "markdown",
   "metadata": {},
   "source": [
    "5. Será que a tripulação foi ética ao ponto de salvar as pessoas independente de suas devidas classes sociais? Ou teria havido escolhas que a sociedade condenaria nos dias de hoje e pelos seus familiares? Vamos avaliar as porcentagens de cada classe e tirar nossas conclusões."
   ]
  },
  {
   "cell_type": "code",
   "execution_count": 21,
   "metadata": {},
   "outputs": [
    {
     "data": {
      "image/png": "[encoded data removed]",
      "text/plain": [
       "<Figure size 432x288 with 1 Axes>"
      ]
     },
     "metadata": {},
     "output_type": "display_data"
    }
   ],
   "source": [
    "df.query('sobreviveu == 1').groupby('pclass').count()['sobreviveu'].plot.pie(title='Porcentagem das classes entre sobreviventes', \n",
    "                                                                           labels=('1a Classe', '2a classe', '3a Classe'), \n",
    "                                                                           startangle=90, autopct='%1.1f%%', label='', \n",
    "                                                                           shadow=True)\n",
    "plt.savefig('fig_5.jpg')  "
   ]
  },
  {
   "cell_type": "markdown",
   "metadata": {},
   "source": [
    "Não é tão evidente através do gráfico acima a discriminação para salvar ou não, pois a primeira classe realmente foi o maior percentual com 39.8%, porém a 3a classe teve um número maior de sobreviventes em relação a segunda classe, 34,8% da 3a classe contra 25,4% da 2a classe. Devemos lembrar também que a 1a classe estava mais próximo aos botes enquanto 2a e 3a classes estavam abaixo da proa, o que pode ter dificultado a chegada até os botes."
   ]
  },
  {
   "cell_type": "markdown",
   "metadata": {},
   "source": [
    "Mas quando olhamos os percentuais de cada classe entre os não sobreviventes, fica mais fácil ver a realidade do que ocorreu referente ao nível social dos que estavam a bordo do Titanic."
   ]
  },
  {
   "cell_type": "code",
   "execution_count": 22,
   "metadata": {},
   "outputs": [
    {
     "data": {
      "image/png": "[encoded data removed]",
      "text/plain": [
       "<Figure size 432x288 with 1 Axes>"
      ]
     },
     "metadata": {},
     "output_type": "display_data"
    }
   ],
   "source": [
    "df.query('sobreviveu == 0').groupby('pclass').count()['sobreviveu'].plot.pie(title='Porcentagem Classes entre os não sobreviventes', \n",
    "                                                                           labels=('1a Classe', '2a classe', '3a Classe'), \n",
    "                                                                           startangle=90, autopct='%1.1f%%', label='', \n",
    "                                                                           shadow=True)\n",
    "plt.savefig('fig_6.jpg')  "
   ]
  },
  {
   "cell_type": "markdown",
   "metadata": {},
   "source": [
    "6. É interessante vermos a distribuição de idade entre os sobreviventes."
   ]
  },
  {
   "cell_type": "code",
   "execution_count": 23,
   "metadata": {},
   "outputs": [
    {
     "data": {
      "image/png": "[encoded data removed]",
      "text/plain": [
       "<Figure size 432x288 with 1 Axes>"
      ]
     },
     "metadata": {
      "needs_background": "light"
     },
     "output_type": "display_data"
    }
   ],
   "source": [
    "df.query('sobreviveu == 1')['idade'].plot.hist(title='Distribuição de sobreviventes por idade', color='b', bins=16)\n",
    "plt.xlabel('Idade')\n",
    "plt.savefig('fig_7.jpg')  "
   ]
  },
  {
   "cell_type": "markdown",
   "metadata": {},
   "source": [
    "Vemos que existe uma grande concentração de criancas menores de 5 anos  e uma concentração alta de sobreviventes na faixa de 15 a 40 anos de idade."
   ]
  },
  {
   "cell_type": "markdown",
   "metadata": {},
   "source": [
    "7. Tendo visto uma grande quantidade de crianças menores de 5 anos sobreviventes, vamos avaliar os números sobre crianças sobreviventes menores de 5 anos."
   ]
  },
  {
   "cell_type": "code",
   "execution_count": 24,
   "metadata": {},
   "outputs": [
    {
     "data": {
      "text/plain": [
       "1    31\n",
       "0    13\n",
       "Name: sobreviveu, dtype: int64"
      ]
     },
     "execution_count": 24,
     "metadata": {},
     "output_type": "execute_result"
    }
   ],
   "source": [
    "df[df.idade <= 5]['sobreviveu'].value_counts()"
   ]
  },
  {
   "cell_type": "code",
   "execution_count": 25,
   "metadata": {},
   "outputs": [
    {
     "data": {
      "image/png": "[encoded data removed]",
      "text/plain": [
       "<Figure size 432x288 with 1 Axes>"
      ]
     },
     "metadata": {},
     "output_type": "display_data"
    }
   ],
   "source": [
    "df['menor_5'] = df[df.idade <= 5]['sobreviveu']\n",
    "pizza('menor_5', 'Sobreviventes menores de 5 anos', ('Sobreviveu', 'Não sobreviveu'))\n",
    "df.drop('menor_5', axis=1, inplace=True)\n",
    "plt.savefig('fig_8.jpg')"
   ]
  },
  {
   "cell_type": "markdown",
   "metadata": {},
   "source": [
    "Uma grande maioria das crianças até 5 anos de idade foram salvas. Representando 70,5% de sobreviventes até 5 anos."
   ]
  },
  {
   "cell_type": "markdown",
   "metadata": {},
   "source": [
    "8. Vamos descobrir qual foi a idade do sobrevivente mais novo, mais velho e qual a média de idade entre eles."
   ]
  },
  {
   "cell_type": "code",
   "execution_count": 26,
   "metadata": {},
   "outputs": [
    {
     "data": {
      "text/plain": [
       "count    290.000000\n",
       "mean      28.343690\n",
       "std       14.950952\n",
       "min        0.420000\n",
       "25%       19.000000\n",
       "50%       28.000000\n",
       "75%       36.000000\n",
       "max       80.000000\n",
       "Name: idade, dtype: float64"
      ]
     },
     "execution_count": 26,
     "metadata": {},
     "output_type": "execute_result"
    }
   ],
   "source": [
    "df.query('sobreviveu == 1')['idade'].describe()"
   ]
  },
  {
   "cell_type": "markdown",
   "metadata": {},
   "source": [
    "Com a ajuda do pandas fica fácil descobrir informações como média, mínimo, máximo, desvio padrão e mediana. A média de idade é de 28 anos entre os sobreviventes, o sobrevivente mais jovem possuia apenas 0,42 anos de idade e o sobrevivente mais velho 80 anos de idade."
   ]
  },
  {
   "cell_type": "markdown",
   "metadata": {},
   "source": [
    "9. Descobrindo o valor médio e máximo que as pessoas pagaram em cada classe."
   ]
  },
  {
   "cell_type": "code",
   "execution_count": 27,
   "metadata": {},
   "outputs": [
    {
     "data": {
      "text/html": [
       "<div>\n",
       "<style scoped>\n",
       "    .dataframe tbody tr th:only-of-type {\n",
       "        vertical-align: middle;\n",
       "    }\n",
       "\n",
       "    .dataframe tbody tr th {\n",
       "        vertical-align: top;\n",
       "    }\n",
       "\n",
       "    .dataframe thead th {\n",
       "        text-align: right;\n",
       "    }\n",
       "</style>\n",
       "<table border=\"1\" class=\"dataframe\">\n",
       "  <thead>\n",
       "    <tr style=\"text-align: right;\">\n",
       "      <th></th>\n",
       "      <th>count</th>\n",
       "      <th>mean</th>\n",
       "      <th>std</th>\n",
       "      <th>min</th>\n",
       "      <th>25%</th>\n",
       "      <th>50%</th>\n",
       "      <th>75%</th>\n",
       "      <th>max</th>\n",
       "    </tr>\n",
       "    <tr>\n",
       "      <th>pclass</th>\n",
       "      <th></th>\n",
       "      <th></th>\n",
       "      <th></th>\n",
       "      <th></th>\n",
       "      <th></th>\n",
       "      <th></th>\n",
       "      <th></th>\n",
       "      <th></th>\n",
       "    </tr>\n",
       "  </thead>\n",
       "  <tbody>\n",
       "    <tr>\n",
       "      <th>1</th>\n",
       "      <td>216.0</td>\n",
       "      <td>84.154687</td>\n",
       "      <td>78.380373</td>\n",
       "      <td>0.0</td>\n",
       "      <td>30.92395</td>\n",
       "      <td>60.2875</td>\n",
       "      <td>93.5</td>\n",
       "      <td>512.3292</td>\n",
       "    </tr>\n",
       "    <tr>\n",
       "      <th>2</th>\n",
       "      <td>184.0</td>\n",
       "      <td>20.662183</td>\n",
       "      <td>13.417399</td>\n",
       "      <td>0.0</td>\n",
       "      <td>13.00000</td>\n",
       "      <td>14.2500</td>\n",
       "      <td>26.0</td>\n",
       "      <td>73.5000</td>\n",
       "    </tr>\n",
       "    <tr>\n",
       "      <th>3</th>\n",
       "      <td>491.0</td>\n",
       "      <td>13.675550</td>\n",
       "      <td>11.778142</td>\n",
       "      <td>0.0</td>\n",
       "      <td>7.75000</td>\n",
       "      <td>8.0500</td>\n",
       "      <td>15.5</td>\n",
       "      <td>69.5500</td>\n",
       "    </tr>\n",
       "  </tbody>\n",
       "</table>\n",
       "</div>"
      ],
      "text/plain": [
       "        count       mean        std  min       25%      50%   75%       max\n",
       "pclass                                                                     \n",
       "1       216.0  84.154687  78.380373  0.0  30.92395  60.2875  93.5  512.3292\n",
       "2       184.0  20.662183  13.417399  0.0  13.00000  14.2500  26.0   73.5000\n",
       "3       491.0  13.675550  11.778142  0.0   7.75000   8.0500  15.5   69.5500"
      ]
     },
     "execution_count": 27,
     "metadata": {},
     "output_type": "execute_result"
    }
   ],
   "source": [
    "df.groupby('pclass')['tarifa'].describe()"
   ]
  },
  {
   "cell_type": "markdown",
   "metadata": {},
   "source": [
    "Com a tabela acima é possível checar que em todas as classes teve pessoas viajando sem cobrança enquanto outras pagaram 512,32 no valor da tarifa para viajar na primeira classe. A média das tarifas de 1a, 2a e 3a classe foram 84,15, 20,66 e 13,67 respectivamente."
   ]
  },
  {
   "cell_type": "markdown",
   "metadata": {},
   "source": [
    "10. Entre os sobreviventes podemos extrair a informação de valor médio das tarifas cada classe econômica."
   ]
  },
  {
   "cell_type": "code",
   "execution_count": 28,
   "metadata": {},
   "outputs": [
    {
     "data": {
      "text/plain": [
       "pclass\n",
       "1    95.608029\n",
       "2    22.055700\n",
       "3    13.694887\n",
       "Name: tarifa, dtype: float64"
      ]
     },
     "execution_count": 28,
     "metadata": {},
     "output_type": "execute_result"
    }
   ],
   "source": [
    "df.query('sobreviveu == 1').groupby('pclass')['tarifa'].mean()"
   ]
  },
  {
   "cell_type": "markdown",
   "metadata": {},
   "source": [
    "Enquanto a média da tarifa paga pelos sobreviventes da 1a classe foi 95,61, a 2a classe pagou 22,06 e a 3a classe 13,69. A diferença entre as tarifas médias dos sobreviventes chega a aproximadamente 7 vezes."
   ]
  },
  {
   "cell_type": "markdown",
   "metadata": {},
   "source": [
    "11. Olhando os valores médios pagos pelas mulheres e pelos homens em cada classe descobriremos as diferenças ou poder aquisitivo maior que os homens ou mulheres possuiam na época."
   ]
  },
  {
   "cell_type": "code",
   "execution_count": 29,
   "metadata": {},
   "outputs": [
    {
     "data": {
      "text/html": [
       "<div>\n",
       "<style scoped>\n",
       "    .dataframe tbody tr th:only-of-type {\n",
       "        vertical-align: middle;\n",
       "    }\n",
       "\n",
       "    .dataframe tbody tr th {\n",
       "        vertical-align: top;\n",
       "    }\n",
       "\n",
       "    .dataframe thead th {\n",
       "        text-align: right;\n",
       "    }\n",
       "</style>\n",
       "<table border=\"1\" class=\"dataframe\">\n",
       "  <thead>\n",
       "    <tr style=\"text-align: right;\">\n",
       "      <th>pclass</th>\n",
       "      <th>1</th>\n",
       "      <th>2</th>\n",
       "      <th>3</th>\n",
       "    </tr>\n",
       "    <tr>\n",
       "      <th>sexo</th>\n",
       "      <th></th>\n",
       "      <th></th>\n",
       "      <th></th>\n",
       "    </tr>\n",
       "  </thead>\n",
       "  <tbody>\n",
       "    <tr>\n",
       "      <th>female</th>\n",
       "      <td>106.125798</td>\n",
       "      <td>21.970121</td>\n",
       "      <td>16.118810</td>\n",
       "    </tr>\n",
       "    <tr>\n",
       "      <th>male</th>\n",
       "      <td>67.226127</td>\n",
       "      <td>19.741782</td>\n",
       "      <td>12.661633</td>\n",
       "    </tr>\n",
       "  </tbody>\n",
       "</table>\n",
       "</div>"
      ],
      "text/plain": [
       "pclass           1          2          3\n",
       "sexo                                    \n",
       "female  106.125798  21.970121  16.118810\n",
       "male     67.226127  19.741782  12.661633"
      ]
     },
     "execution_count": 29,
     "metadata": {},
     "output_type": "execute_result"
    }
   ],
   "source": [
    "df.pivot_table('tarifa', ['sexo'], 'pclass', aggfunc='mean')"
   ]
  },
  {
   "cell_type": "code",
   "execution_count": 30,
   "metadata": {},
   "outputs": [
    {
     "data": {
      "image/png": "[encoded data removed]",
      "text/plain": [
       "<Figure size 432x288 with 1 Axes>"
      ]
     },
     "metadata": {
      "needs_background": "light"
     },
     "output_type": "display_data"
    },
    {
     "data": {
      "text/plain": [
       "<Figure size 432x288 with 0 Axes>"
      ]
     },
     "metadata": {},
     "output_type": "display_data"
    }
   ],
   "source": [
    "df_f = df.query('sexo == \"female\"').groupby('pclass')['tarifa'].mean()\n",
    "df_m = df.query('sexo == \"male\"').groupby('pclass')['tarifa'].mean()\n",
    "classe = df['pclass'].unique()\n",
    "\n",
    "plt.plot(df_f, 'r', label='Feminino')\n",
    "plt.plot(df_m, 'b', label='Masculino')\n",
    "plt.title('Valor médio da Tarifa por classe e sexo')\n",
    "plt.xlabel('Classes')\n",
    "plt.ylabel('Valor médio')\n",
    "plt.xticks(classe)\n",
    "plt.legend()\n",
    "plt.grid(True)\n",
    "\n",
    "plt.show()\n",
    "plt.savefig('fig_9.jpg')"
   ]
  },
  {
   "cell_type": "markdown",
   "metadata": {},
   "source": [
    "A média de valores pagos para embarcar no Titanic pelas mulheres foi superior em todas as classes. A primeira classe, as mulheres pagaram em média valores bem superior aos homens, o que nos revela que as mulheres que utilizavam esse meio de locomação possuiam maior poder aquisitivo ou por motivos de preconceito que existia na época eram exigidas a pagar um valor maior. "
   ]
  },
  {
   "cell_type": "markdown",
   "metadata": {},
   "source": [
    "## Conclusão"
   ]
  },
  {
   "cell_type": "markdown",
   "metadata": {},
   "source": [
    "Com este projeto proposto para analise dos dados exploratório de sobreviventes e aqueles que não tiveram a sorte de sobreviver, podemos verificar que apenas 38,4% das pessoas a bordo sobreviveram, ou seja, em números apenas 342 dos 891 sobreviveram.\n",
    "\n",
    "Uma informação agradável é que as crianças menores de 5 anos foram em sua grande maioria salvas, representando uma taxa maior que 2/3 das presentes na embarcação.\n",
    "\n",
    "As mulheres também tiveram sua prioridade durante a tragédia para deixar o navio, 68,1% das mulheres a bordo conseguiram sobreviver ao acidente.\n",
    "\n",
    "Outros dados foram extraidos atráves de faixa etária e classes do navio como é possível verificar ao longo do projeto.\n",
    "\n",
    "Poderiamos ter abordado outros pontos de vista interessantes durante o projeto, como exemplo podemos citar o local de embarque de cada pessoa, mas deixaremos para um próximo estudo.\n",
    "\n",
    "Executar na prática os conhecimentos adquiridos durante o Nanodegree, a descoberta de novos conhecimentos para assim extrair as informações e além de tudo sobre a história de uma das maiores tragédias náuticas ocorridas foi enriquecedor. "
   ]
  },
  {
   "cell_type": "markdown",
   "metadata": {},
   "source": [
    "### Limitações"
   ]
  },
  {
   "cell_type": "markdown",
   "metadata": {},
   "source": [
    "Tivemos alguns fatores que nos limitou a extrair informações ainda mais precisas, a exemplo de valores relevantes podemos citar a idade de algumas pessoas que faltavam.\n",
    "        A **medida tomada** para reduzir o impacto nas análises foi de utilizar os valores não nulos, sem a necessidade de exclui-los do banco de dados. Também poderia se utilizar outros métodos para se aproximar os valores das idades faltantes, o que não foi o caso.\n",
    "\n",
    "Caso desejassemos utilizar a lotação ocupada, cabine, pelos passageiros no navio teriamos um problema maior, pois o número de elementos faltantes é muito maior. A coluna cabine foi inutilizada e excluida do dataset.\n"
   ]
  },
  {
   "cell_type": "markdown",
   "metadata": {},
   "source": [
    "#### Fontes:\n",
    "- Kaggle\n",
    "https://www.kaggle.com/c/titanic\n",
    "\n",
    "- Stackoverflow\n",
    "https://stackoverflow.com\n",
    "\n",
    "- Python para Análise de Dados\n",
    "Editora: Novatec\n",
    "Autor: Wes McKinney"
   ]
  }
 ],
 "metadata": {
  "kernelspec": {
   "display_name": "Python 3",
   "language": "python",
   "name": "python3"
  },
  "language_info": {
   "codemirror_mode": {
    "name": "ipython",
    "version": 3
   },
   "file_extension": ".py",
   "mimetype": "text/x-python",
   "name": "python",
   "nbconvert_exporter": "python",
   "pygments_lexer": "ipython3",
   "version": "3.7.0"
  }
 },
 "nbformat": 4,
 "nbformat_minor": 2
}
